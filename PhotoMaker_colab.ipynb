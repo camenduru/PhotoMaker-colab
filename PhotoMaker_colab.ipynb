{
  "cells": [
    {
      "cell_type": "markdown",
      "metadata": {
        "id": "view-in-github"
      },
      "source": [
        "[![Open In Colab](https://colab.research.google.com/assets/colab-badge.svg)](https://colab.research.google.com/github/camenduru/PhotoMaker-colab/blob/main/PhotoMaker_colab.ipynb)"
      ]
    },
    {
      "cell_type": "code",
      "execution_count": null,
      "metadata": {
        "id": "VjYy0F2gZIPR"
      },
      "outputs": [],
      "source": [
        "%cd /content\n",
        "!git clone -b dev https://github.com/camenduru/PhotoMaker\n",
        "%cd /content/PhotoMaker\n",
        "\n",
        "!pip install -q torch==2.0.1+cu118 torchvision==0.15.2+cu118 torchaudio==2.0.2+cu118 torchtext==0.15.2 torchdata==0.6.1 --extra-index-url https://download.pytorch.org/whl/cu118 -U\n",
        "!pip install -q xformers==0.0.20 diffusers accelerate einops onnxruntime-gpu omegaconf\n",
        "\n",
        "import torch\n",
        "import numpy as np\n",
        "import random\n",
        "import os\n",
        "from PIL import Image\n",
        "\n",
        "from diffusers.utils import load_image\n",
        "from diffusers import EulerDiscreteScheduler\n",
        "from huggingface_hub import hf_hub_download\n",
        "\n",
        "from photomaker.pipeline import PhotoMakerStableDiffusionXLPipeline\n",
        "\n",
        "# gloal variable and function\n",
        "def image_grid(imgs, rows, cols, size_after_resize):\n",
        "    assert len(imgs) == rows*cols\n",
        "\n",
        "    w, h = size_after_resize, size_after_resize\n",
        "    \n",
        "    grid = Image.new('RGB', size=(cols*w, rows*h))\n",
        "    grid_w, grid_h = grid.size\n",
        "    \n",
        "    for i, img in enumerate(imgs):\n",
        "        img = img.resize((w,h))\n",
        "        grid.paste(img, box=(i%cols*w, i//cols*h))\n",
        "    return grid\n",
        "\n",
        "base_model_path = 'SG161222/RealVisXL_V3.0'\n",
        "photomaker_path = hf_hub_download(repo_id=\"TencentARC/PhotoMaker\", filename=\"photomaker-v1.bin\", repo_type=\"model\")\n",
        "device = \"cuda\"\n",
        "save_path = \"./outputs\"\n",
        "\n",
        "# Load base model\n",
        "pipe = PhotoMakerStableDiffusionXLPipeline.from_pretrained(\n",
        "    base_model_path, \n",
        "    torch_dtype=torch.bfloat16, \n",
        "    use_safetensors=True, \n",
        "    variant=\"fp16\",\n",
        "#     local_files_only=True,\n",
        ").to(device)\n",
        "\n",
        "# Load PhotoMaker checkpoint\n",
        "pipe.load_photomaker_adapter(\n",
        "    os.path.dirname(photomaker_path),\n",
        "    subfolder=\"\",\n",
        "    weight_name=os.path.basename(photomaker_path),\n",
        "    trigger_word=\"img\"\n",
        ")     \n",
        "\n",
        "pipe.scheduler = EulerDiscreteScheduler.from_config(pipe.scheduler.config)\n",
        "pipe.fuse_lora()"
      ]
    },
    {
      "cell_type": "code",
      "execution_count": null,
      "metadata": {},
      "outputs": [],
      "source": [
        "# define and show the input ID images\n",
        "input_folder_name = './examples/newton_man'\n",
        "image_basename_list = os.listdir(input_folder_name)\n",
        "image_path_list = sorted([os.path.join(input_folder_name, basename) for basename in image_basename_list])\n",
        "\n",
        "input_id_images = []\n",
        "for image_path in image_path_list:\n",
        "    input_id_images.append(load_image(image_path))\n",
        "    \n",
        "input_grid = image_grid(input_id_images, 1, 4, size_after_resize=224)\n",
        "print(\"Input ID images:\")\n",
        "input_grid"
      ]
    },
    {
      "cell_type": "code",
      "execution_count": null,
      "metadata": {},
      "outputs": [],
      "source": [
        "## Note that the trigger word `img` must follow the class word for personalization\n",
        "prompt = \"sci-fi, closeup portrait photo of a man img wearing the sunglasses in Iron man suit, face, slim body, high quality, film grain\"\n",
        "negative_prompt = \"(asymmetry, worst quality, low quality, illustration, 3d, 2d, painting, cartoons, sketch), open mouth\"\n",
        "generator = torch.Generator(device=device).manual_seed(42)\n",
        "\n",
        "## Parameter setting\n",
        "num_steps = 50\n",
        "style_strength_ratio = 20\n",
        "start_merge_step = int(float(style_strength_ratio) / 100 * num_steps)\n",
        "if start_merge_step > 30:\n",
        "    start_merge_step = 30\n",
        "    \n",
        "images = pipe(\n",
        "    prompt=prompt,\n",
        "    input_id_images=input_id_images,\n",
        "    negative_prompt=negative_prompt,\n",
        "    num_images_per_prompt=4,\n",
        "    num_inference_steps=num_steps,\n",
        "    start_merge_step=start_merge_step,\n",
        "    generator=generator,\n",
        ").images"
      ]
    }
  ],
  "metadata": {
    "accelerator": "GPU",
    "colab": {
      "gpuType": "T4",
      "provenance": []
    },
    "kernelspec": {
      "display_name": "Python 3",
      "name": "python3"
    },
    "language_info": {
      "name": "python"
    }
  },
  "nbformat": 4,
  "nbformat_minor": 0
}
